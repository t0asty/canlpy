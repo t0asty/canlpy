{
 "cells": [
  {
   "cell_type": "code",
   "execution_count": 1,
   "metadata": {},
   "outputs": [],
   "source": [
    "%load_ext autoreload\n",
    "%autoreload 2"
   ]
  },
  {
   "cell_type": "code",
   "execution_count": 2,
   "metadata": {},
   "outputs": [],
   "source": [
    "from canlpy.core.util.knowbert_tokenizer.tokenizer import KnowBertBatchifier\n",
    "import torch"
   ]
  },
  {
   "cell_type": "code",
   "execution_count": 3,
   "metadata": {},
   "outputs": [
    {
     "name": "stdout",
     "output_type": "stream",
     "text": [
      "duplicate_mentions_cnt:  6777\n",
      "end of p_e_m reading. wall time: 1.2369118332862854  minutes\n",
      "p_e_m_errors:  0\n",
      "incompatible_ent_ids:  0\n"
     ]
    }
   ],
   "source": [
    "batcher = KnowBertBatchifier.get_wiki_batchifier()"
   ]
  },
  {
   "cell_type": "code",
   "execution_count": 5,
   "metadata": {},
   "outputs": [
    {
     "name": "stdout",
     "output_type": "stream",
     "text": [
      "token ids are equal: True\n",
      "Segment ids are equal: True\n",
      "Candidate entity_priors are equal: True\n",
      "Candidate entities ids are equal: True\n",
      "Candidate span are equal: True\n",
      "Candidate segments_ids are equal: True\n"
     ]
    }
   ],
   "source": [
    "test = torch.load(\"knowbert_wiki_tokenizer_test\")\n",
    "\n",
    "for custom_batch,expected_batch in zip(batcher.iter_batches(test['input'],verbose=False),test['expected']):\n",
    "    print(f\"token ids are equal: {torch.equal(expected_batch['tokens']['tokens'], custom_batch['tokens']['tokens'])}\")\n",
    "    #Defines the segments_ids (0 for first segment and 1 for second), can be used for NSP\n",
    "    #shape: (batch_size,max_seq_len)\n",
    "    print(f\"Segment ids are equal: {torch.equal(expected_batch['segment_ids'],custom_batch['segment_ids'])}\")\n",
    "\n",
    "    expected_wiki_kb = custom_batch['candidates']['wiki']\n",
    "    custom_wiki_kb = custom_batch['candidates']['wiki']\n",
    "\n",
    "    print(f\"Candidate entity_priors are equal: {torch.equal(expected_wiki_kb['candidate_entity_priors'],custom_wiki_kb['candidate_entity_priors'])}\")\n",
    "    print(f\"Candidate entities ids are equal: {torch.equal(expected_wiki_kb['candidate_entities']['ids'],custom_wiki_kb['candidate_entities']['ids'])}\")\n",
    "    print(f\"Candidate span are equal: {torch.equal(expected_wiki_kb['candidate_spans'],custom_wiki_kb['candidate_spans'])}\")\n",
    "\n",
    "    #For each sentence entity, indicate to which segment ids it corresponds to\n",
    "    print(f\"Candidate segments_ids are equal: {torch.equal(expected_wiki_kb['candidate_segment_ids'],custom_wiki_kb['candidate_segment_ids'])}\")\n"
   ]
  },
  {
   "cell_type": "code",
   "execution_count": null,
   "metadata": {},
   "outputs": [],
   "source": []
  },
  {
   "cell_type": "code",
   "execution_count": null,
   "metadata": {},
   "outputs": [],
   "source": []
  }
 ],
 "metadata": {
  "interpreter": {
   "hash": "5dd83c0049ca90416432c7bf31543fa4a43c6d1cbcb766d79372bfcb46406b7f"
  },
  "kernelspec": {
   "display_name": "Python 3.8.13 ('nlp')",
   "language": "python",
   "name": "python3"
  },
  "language_info": {
   "codemirror_mode": {
    "name": "ipython",
    "version": 3
   },
   "file_extension": ".py",
   "mimetype": "text/x-python",
   "name": "python",
   "nbconvert_exporter": "python",
   "pygments_lexer": "ipython3",
   "version": "3.8.13"
  },
  "orig_nbformat": 4
 },
 "nbformat": 4,
 "nbformat_minor": 2
}
